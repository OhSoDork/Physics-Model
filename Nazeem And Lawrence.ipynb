{
 "cells": [
  {
   "cell_type": "markdown",
   "metadata": {},
   "source": [
    "# Modeling Static Friction"
   ]
  },
  {
   "cell_type": "markdown",
   "metadata": {},
   "source": [
    "# Introduction"
   ]
  },
  {
   "cell_type": "markdown",
   "metadata": {},
   "source": []
  },
  {
   "cell_type": "markdown",
   "metadata": {},
   "source": [
    "# Procedure"
   ]
  },
  {
   "cell_type": "markdown",
   "metadata": {},
   "source": [
    "Gather [varying weights]\n",
    "Use the Spring scale to [measure the amount of Newtons required to] pull the objects to pull [each weight for this amount of distance]\n",
    "Keep pulling on the object until it budges [this distance] and record the amount of Newton needed to move it\n"
   ]
  },
  {
   "cell_type": "markdown",
   "metadata": {},
   "source": [
    "|Weights(g)  |Force (Newtons)   |\n",
    "|---|---|\n",
    "|0   | 0 |\n",
    "|100   |0.8   |\n",
    "|200   |1.7  |\n",
    "|300   |1.9  |\n",
    "|400   |2.25   |"
   ]
  },
  {
   "cell_type": "code",
   "execution_count": 8,
   "metadata": {
    "collapsed": false
   },
   "outputs": [
    {
     "data": {
      "text/plain": [
       "<function matplotlib.pyplot.show>"
      ]
     },
     "execution_count": 8,
     "metadata": {},
     "output_type": "execute_result"
    }
   ],
   "source": [
    "import matplotlib.pyplot as plt\n",
    "import numpy as np\n",
    "#from script.optmize import curve fit\n",
    "Weight = [0, 100, 200, 300, 400]\n",
    "Force = [0, 0.8, 1.7, 1.9, 2.25]\n",
    "#xx = np.linespace(0,501,20)\n",
    "#def lin_model(x,a,b)\n",
    " #   return a*x+b\n",
    "\n",
    "plt.plot(Weight, Force, '.')\n",
    "#plt.plot(xx,lin_model(xx,a,b))\n",
    "plt.xlabel('Weights (g)')\n",
    "plt.ylabel('Force (Newtons)')\n",
    "plt.title('Statics Friction Model')\n",
    "plt.show"
   ]
  },
  {
   "cell_type": "markdown",
   "metadata": {
    "collapsed": true
   },
   "source": [
    "Mr. Enrico is the worst teacher ever."
   ]
  },
  {
   "cell_type": "code",
   "execution_count": null,
   "metadata": {
    "collapsed": true
   },
   "outputs": [],
   "source": []
  },
  {
   "cell_type": "markdown",
   "metadata": {},
   "source": [
    "# Results and Observation"
   ]
  },
  {
   "cell_type": "code",
   "execution_count": null,
   "metadata": {
    "collapsed": true
   },
   "outputs": [],
   "source": [
    "The weights we pulled have caused friction "
   ]
  }
 ],
 "metadata": {
  "anaconda-cloud": {},
  "kernelspec": {
   "display_name": "Python [default]",
   "language": "python",
   "name": "python3"
  },
  "language_info": {
   "codemirror_mode": {
    "name": "ipython",
    "version": 3
   },
   "file_extension": ".py",
   "mimetype": "text/x-python",
   "name": "python",
   "nbconvert_exporter": "python",
   "pygments_lexer": "ipython3",
   "version": "3.5.2"
  }
 },
 "nbformat": 4,
 "nbformat_minor": 0
}
